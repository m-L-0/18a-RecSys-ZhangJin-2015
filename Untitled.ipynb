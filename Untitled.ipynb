{
 "cells": [
  {
   "cell_type": "code",
   "execution_count": 1,
   "metadata": {},
   "outputs": [],
   "source": [
    "import pandas as pd\n",
    "import numpy as np\n",
    "import math\n",
    "import random\n",
    "from tqdm import tqdm"
   ]
  },
  {
   "cell_type": "code",
   "execution_count": 2,
   "metadata": {
    "collapsed": true
   },
   "outputs": [],
   "source": [
    "# 获取数据集 返回 prefs - - - -  {user{movieid:rating}}\n",
    "def load_movielens(path='./ml-100k'):\n",
    "    # get movie titles\n",
    "    movies = {}\n",
    "    for line in open(path + '/u.item', encoding='latin-1'):\n",
    "        id, title = line.split('|')[0:2]\n",
    "        movies[id] = title\n",
    "    # load data\n",
    "    prefs = {}\n",
    "    for line in open(path + '/u.data', encoding='latin-1'):\n",
    "        user, movieid, rating, ts = line.split('\\t')\n",
    "        prefs.setdefault(user, {})\n",
    "        prefs[user][movieid] = float(rating)\n",
    "    return prefs\n",
    "prefs = load_movielens()"
   ]
  },
  {
   "cell_type": "code",
   "execution_count": 3,
   "metadata": {
    "collapsed": true
   },
   "outputs": [],
   "source": [
    "# 一个矩阵 lis [944, 1684] - - - X方向是用户id - - - Y方向是movieid\n",
    "lis = np.zeros([944, 1683])\n",
    "for i in prefs.keys():\n",
    "    for j in prefs[i].keys():\n",
    "        lis[int(i)][int(j)]=1"
   ]
  },
  {
   "cell_type": "code",
   "execution_count": 4,
   "metadata": {
    "collapsed": true
   },
   "outputs": [],
   "source": [
    "# 求的两个用户之间的余弦相似性\n",
    "def cos_(x, y):\n",
    "    numerator = list(x*y.T).count(1)\n",
    "    denominator = np.sqrt(list(x).count(1)*list(y).count(1))\n",
    "    return (float(numerator / denominator))"
   ]
  },
  {
   "cell_type": "code",
   "execution_count": 5,
   "metadata": {
    "collapsed": true
   },
   "outputs": [],
   "source": [
    "# 返回一个slt矩阵 - - - -  X方向是用户id - - - - - Y 方向是 用户id\n",
    "def connected(X,size=944):\n",
    "    slt = np.zeros([size,size])\n",
    "    for i in tqdm(range(size)):\n",
    "        if i== 0:\n",
    "            continue\n",
    "        for j in range(i,size):\n",
    "            if j == 0 or i==j:\n",
    "                continue\n",
    "            slt[i][j] = cos_(X[i],X[j])\n",
    "            slt[j][i] = slt[i][j]\n",
    "    return slt\n",
    "\n",
    "slt = connected(lis,944)"
   ]
  },
  {
   "cell_type": "code",
   "execution_count": 13,
   "metadata": {},
   "outputs": [],
   "source": [
    "# 根据余弦近似 求得最近的movie_id 并返回 指定的数量\n",
    "def find(user,Num):\n",
    "    lb = slt[user]\n",
    "    dk = []\n",
    "    for i in range(len(lb)):\n",
    "        if lb[i]!=0:\n",
    "            dk.append([lb[i],i])\n",
    "    list_high = np.sort(dk,axis=0)[:,-1]\n",
    "    count_movie = 0\n",
    "    return_list = []\n",
    "    for index in range(Num):\n",
    "        for some in range(len(lis[list_high[index]])):\n",
    "            if some != 0 and some not in lis[user]:\n",
    "                count_movie+=1\n",
    "                return_list += [some]\n",
    "            if count_movie>=Num:\n",
    "                return return_list\n",
    "\n",
    "return_list = find(100,3)    # 给定用户id 以及近邻数目"
   ]
  },
  {
   "cell_type": "code",
   "execution_count": 16,
   "metadata": {},
   "outputs": [],
   "source": [
    "# 召回率  \n",
    "def recall(lists,user_id):\n",
    "    hit = 0\n",
    "    alls = 0\n",
    "    for something in test[user_id]:\n",
    "        if something in lists:\n",
    "            hit += 1\n",
    "        if something!=0:\n",
    "            alls+=1\n",
    "    return hit / (alls * 1.0)\n",
    "\n",
    "\n",
    "recall_s = recall(return_list,100) # 给定返回的列表以及用户id"
   ]
  },
  {
   "cell_type": "code",
   "execution_count": 14,
   "metadata": {
    "collapsed": true
   },
   "outputs": [],
   "source": [
    "# 正确率\n",
    "def precision(lists, N, user_id):\n",
    "    hit = 0\n",
    "    alls = N\n",
    "    for something in test[user_id]:\n",
    "        if something in lists:\n",
    "            hit += 1\n",
    "            \n",
    "    return hit / (alls * 1.0)pre_s = precision(return_list,3)  # 给定返回的列表以及预测个数,用户id\n",
    "pre_s = precision(return_list,3)  # 给定返回的列表以及预测个数,用户id"
   ]
  },
  {
   "cell_type": "code",
   "execution_count": null,
   "metadata": {},
   "outputs": [],
   "source": []
  },
  {
   "cell_type": "code",
   "execution_count": null,
   "metadata": {},
   "outputs": [],
   "source": []
  },
  {
   "cell_type": "code",
   "execution_count": null,
   "metadata": {
    "scrolled": true
   },
   "outputs": [],
   "source": []
  },
  {
   "cell_type": "code",
   "execution_count": null,
   "metadata": {},
   "outputs": [],
   "source": []
  },
  {
   "cell_type": "code",
   "execution_count": null,
   "metadata": {},
   "outputs": [],
   "source": []
  },
  {
   "cell_type": "code",
   "execution_count": null,
   "metadata": {},
   "outputs": [],
   "source": []
  },
  {
   "cell_type": "code",
   "execution_count": null,
   "metadata": {
    "collapsed": true
   },
   "outputs": [],
   "source": []
  },
  {
   "cell_type": "code",
   "execution_count": null,
   "metadata": {},
   "outputs": [],
   "source": []
  },
  {
   "cell_type": "code",
   "execution_count": null,
   "metadata": {
    "collapsed": true
   },
   "outputs": [],
   "source": []
  },
  {
   "cell_type": "code",
   "execution_count": null,
   "metadata": {
    "collapsed": true
   },
   "outputs": [],
   "source": []
  },
  {
   "cell_type": "code",
   "execution_count": null,
   "metadata": {},
   "outputs": [],
   "source": []
  },
  {
   "cell_type": "code",
   "execution_count": null,
   "metadata": {},
   "outputs": [],
   "source": []
  },
  {
   "cell_type": "code",
   "execution_count": null,
   "metadata": {},
   "outputs": [],
   "source": []
  },
  {
   "cell_type": "code",
   "execution_count": null,
   "metadata": {},
   "outputs": [],
   "source": []
  },
  {
   "cell_type": "code",
   "execution_count": null,
   "metadata": {},
   "outputs": [],
   "source": []
  },
  {
   "cell_type": "code",
   "execution_count": null,
   "metadata": {},
   "outputs": [],
   "source": []
  },
  {
   "cell_type": "code",
   "execution_count": null,
   "metadata": {},
   "outputs": [],
   "source": []
  },
  {
   "cell_type": "code",
   "execution_count": null,
   "metadata": {},
   "outputs": [],
   "source": []
  },
  {
   "cell_type": "code",
   "execution_count": null,
   "metadata": {},
   "outputs": [],
   "source": []
  },
  {
   "cell_type": "code",
   "execution_count": null,
   "metadata": {},
   "outputs": [],
   "source": []
  },
  {
   "cell_type": "code",
   "execution_count": null,
   "metadata": {
    "collapsed": true
   },
   "outputs": [],
   "source": []
  }
 ],
 "metadata": {
  "kernelspec": {
   "display_name": "Python 3",
   "language": "python",
   "name": "python3"
  },
  "language_info": {
   "codemirror_mode": {
    "name": "ipython",
    "version": 3
   },
   "file_extension": ".py",
   "mimetype": "text/x-python",
   "name": "python",
   "nbconvert_exporter": "python",
   "pygments_lexer": "ipython3",
   "version": "3.6.3"
  }
 },
 "nbformat": 4,
 "nbformat_minor": 2
}
