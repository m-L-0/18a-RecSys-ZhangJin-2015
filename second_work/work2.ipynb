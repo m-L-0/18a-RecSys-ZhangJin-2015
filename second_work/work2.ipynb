{
 "cells": [
  {
   "cell_type": "code",
   "execution_count": 1,
   "metadata": {
    "collapsed": true
   },
   "outputs": [],
   "source": [
    "import numpy as np\n",
    "import pandas as pd\n",
    "import math\n",
    "from numpy import delete\n",
    "from tqdm import tqdm\n",
    "import random"
   ]
  },
  {
   "cell_type": "code",
   "execution_count": 3,
   "metadata": {},
   "outputs": [
    {
     "name": "stdout",
     "output_type": "stream",
     "text": [
      "       m_id                                   title release_date  \\\n",
      "0         1                        Toy Story (1995)  01-Jan-1995   \n",
      "1         4                       Get Shorty (1995)  01-Jan-1995   \n",
      "2         5                          Copycat (1995)  01-Jan-1995   \n",
      "3         7                   Twelve Monkeys (1995)  01-Jan-1995   \n",
      "4         8                             Babe (1995)  01-Jan-1995   \n",
      "5         9                 Dead Man Walking (1995)  01-Jan-1995   \n",
      "6        11                    Seven (Se7en) (1995)  01-Jan-1995   \n",
      "7        12              Usual Suspects, The (1995)  14-Aug-1995   \n",
      "8        15               Mr. Holland's Opus (1995)  29-Jan-1996   \n",
      "9        17              From Dusk Till Dawn (1996)  05-Feb-1996   \n",
      "10       19                   Antonia's Line (1995)  01-Jan-1995   \n",
      "11       21           Muppet Treasure Island (1996)  16-Feb-1996   \n",
      "12       22                       Braveheart (1995)  16-Feb-1996   \n",
      "13       23                      Taxi Driver (1976)  16-Feb-1996   \n",
      "14       24              Rumble in the Bronx (1995)  23-Feb-1996   \n",
      "15       25                    Birdcage, The (1996)  08-Mar-1996   \n",
      "16       28                        Apollo 13 (1995)  01-Jan-1995   \n",
      "17       30                    Belle de jour (1967)  01-Jan-1967   \n",
      "18       31                     Crimson Tide (1995)  01-Jan-1995   \n",
      "19       32                            Crumb (1994)  01-Jan-1994   \n",
      "20       42                           Clerks (1994)  01-Jan-1994   \n",
      "21       44                Dolores Claiborne (1994)  01-Jan-1994   \n",
      "22       45              Eat Drink Man Woman (1994)  01-Jan-1994   \n",
      "23       47                          Ed Wood (1994)  01-Jan-1994   \n",
      "24       48                      Hoop Dreams (1994)  01-Jan-1994   \n",
      "25       49                             I.Q. (1994)  01-Jan-1994   \n",
      "26       50                        Star Wars (1977)  01-Jan-1977   \n",
      "27       54                         Outbreak (1995)  01-Jan-1995   \n",
      "28       55                Professional, The (1994)  01-Jan-1994   \n",
      "29       56                     Pulp Fiction (1994)  01-Jan-1994   \n",
      "...     ...                                     ...          ...   \n",
      "99970   332                   Kiss the Girls (1997)  01-Jan-1997   \n",
      "99971   334                           U Turn (1997)  01-Jan-1997   \n",
      "99972   338                             Bean (1997)  01-Jan-1997   \n",
      "99973   346                     Jackie Brown (1997)  01-Jan-1997   \n",
      "99974   682  I Know What You Did Last Summer (1997)  17-Oct-1997   \n",
      "99975   873                  Picture Perfect (1997)  01-Aug-1997   \n",
      "99976   877                   Excess Baggage (1997)  01-Jan-1997   \n",
      "99977   886            Life Less Ordinary, A (1997)  01-Jan-1997   \n",
      "99978  1527                        Senseless (1998)  09-Jan-1998   \n",
      "99979   272                Good Will Hunting (1997)  01-Jan-1997   \n",
      "99980   288                           Scream (1996)  20-Dec-1996   \n",
      "99981   294                        Liar Liar (1997)  21-Mar-1997   \n",
      "99982   300                    Air Force One (1997)  01-Jan-1997   \n",
      "99983   310                   Rainmaker, The (1997)  01-Jan-1997   \n",
      "99984   313                          Titanic (1997)  01-Jan-1997   \n",
      "99985   322                   Murder at 1600 (1997)  18-Apr-1997   \n",
      "99986   328                Conspiracy Theory (1997)  08-Aug-1997   \n",
      "99987   333                        Game, The (1997)  01-Jan-1997   \n",
      "99988   338                             Bean (1997)  01-Jan-1997   \n",
      "99989   346                     Jackie Brown (1997)  01-Jan-1997   \n",
      "99990   354              Wedding Singer, The (1998)  13-Feb-1998   \n",
      "99991   362              Blues Brothers 2000 (1998)  06-Feb-1998   \n",
      "99992   683                       Rocket Man (1997)  01-Jan-1997   \n",
      "99993   689                      Jackal, The (1997)  01-Jan-1997   \n",
      "99994   690             Seven Years in Tibet (1997)  01-Jan-1997   \n",
      "99995   748                       Saint, The (1997)  14-Mar-1997   \n",
      "99996   751              Tomorrow Never Dies (1997)  01-Jan-1997   \n",
      "99997   879                  Peacemaker, The (1997)  01-Jan-1997   \n",
      "99998   894                     Home Alone 3 (1997)  01-Jan-1997   \n",
      "99999   901                        Mr. Magoo (1997)  25-Dec-1997   \n",
      "\n",
      "       video_release_date                                           imdb_url  \\\n",
      "0                     NaN  http://us.imdb.com/M/title-exact?Toy%20Story%2...   \n",
      "1                     NaN  http://us.imdb.com/M/title-exact?Get%20Shorty%...   \n",
      "2                     NaN  http://us.imdb.com/M/title-exact?Copycat%20(1995)   \n",
      "3                     NaN  http://us.imdb.com/M/title-exact?Twelve%20Monk...   \n",
      "4                     NaN     http://us.imdb.com/M/title-exact?Babe%20(1995)   \n",
      "5                     NaN  http://us.imdb.com/M/title-exact?Dead%20Man%20...   \n",
      "6                     NaN    http://us.imdb.com/M/title-exact?Se7en%20(1995)   \n",
      "7                     NaN  http://us.imdb.com/M/title-exact?Usual%20Suspe...   \n",
      "8                     NaN  http://us.imdb.com/M/title-exact?Mr.%20Holland...   \n",
      "9                     NaN  http://us.imdb.com/M/title-exact?From%20Dusk%2...   \n",
      "10                    NaN  http://us.imdb.com/M/title-exact?Antonia%20(1995)   \n",
      "11                    NaN  http://us.imdb.com/M/title-exact?Muppet%20Trea...   \n",
      "12                    NaN  http://us.imdb.com/M/title-exact?Braveheart%20...   \n",
      "13                    NaN  http://us.imdb.com/M/title-exact?Taxi%20Driver...   \n",
      "14                    NaN  http://us.imdb.com/M/title-exact?Hong%20Faan%2...   \n",
      "15                    NaN  http://us.imdb.com/M/title-exact?Birdcage,%20T...   \n",
      "16                    NaN  http://us.imdb.com/M/title-exact?Apollo%2013%2...   \n",
      "17                    NaN  http://us.imdb.com/M/title-exact?Belle%20de%20...   \n",
      "18                    NaN  http://us.imdb.com/M/title-exact?Crimson%20Tid...   \n",
      "19                    NaN    http://us.imdb.com/M/title-exact?Crumb%20(1994)   \n",
      "20                    NaN   http://us.imdb.com/M/title-exact?Clerks%20(1994)   \n",
      "21                    NaN  http://us.imdb.com/M/title-exact?Dolores%20Cla...   \n",
      "22                    NaN  http://us.imdb.com/M/title-exact?Yinshi%20Nan%...   \n",
      "23                    NaN  http://us.imdb.com/M/title-exact?Ed%20Wood%20(...   \n",
      "24                    NaN  http://us.imdb.com/M/title-exact?Hoop%20Dreams...   \n",
      "25                    NaN     http://us.imdb.com/M/title-exact?I.Q.%20(1994)   \n",
      "26                    NaN  http://us.imdb.com/M/title-exact?Star%20Wars%2...   \n",
      "27                    NaN  http://us.imdb.com/M/title-exact?Outbreak%20(1...   \n",
      "28                    NaN             http://us.imdb.com/Title?L%E9on+(1994)   \n",
      "29                    NaN  http://us.imdb.com/M/title-exact?Pulp%20Fictio...   \n",
      "...                   ...                                                ...   \n",
      "99970                 NaN  http://us.imdb.com/M/title-exact?Kiss+the+Girl...   \n",
      "99971                 NaN             http://us.imdb.com/Title?U+Turn+(1997)   \n",
      "99972                 NaN       http://us.imdb.com/M/title-exact?Bean+(1997)   \n",
      "99973                 NaN  http://us.imdb.com/M/title-exact?imdb-title-11...   \n",
      "99974                 NaN  http://us.imdb.com/M/title-exact?I+Know+What+Y...   \n",
      "99975                 NaN  http://us.imdb.com/M/title-exact?Picture+Perfe...   \n",
      "99976                 NaN  http://us.imdb.com/M/title-exact?Excess+Baggag...   \n",
      "99977                 NaN  http://us.imdb.com/M/title-exact?Life+Less+Ord...   \n",
      "99978                 NaN  http://us.imdb.com/M/title-exact?imdb-title-12...   \n",
      "99979                 NaN  http://us.imdb.com/M/title-exact?imdb-title-11...   \n",
      "99980                 NaN   http://us.imdb.com/M/title-exact?Scream%20(1996)   \n",
      "99981                 NaN          http://us.imdb.com/Title?Liar+Liar+(1997)   \n",
      "99982                 NaN  http://us.imdb.com/M/title-exact?Air+Force+One...   \n",
      "99983                 NaN  http://us.imdb.com/M/title-exact?Rainmaker,+Th...   \n",
      "99984                 NaN  http://us.imdb.com/M/title-exact?imdb-title-12...   \n",
      "99985                 NaN  http://us.imdb.com/M/title-exact?Murder%20at%2...   \n",
      "99986                 NaN  http://us.imdb.com/M/title-exact?Conspiracy+Th...   \n",
      "99987                 NaN  http://us.imdb.com/M/title-exact?Game%2C+The+(...   \n",
      "99988                 NaN       http://us.imdb.com/M/title-exact?Bean+(1997)   \n",
      "99989                 NaN  http://us.imdb.com/M/title-exact?imdb-title-11...   \n",
      "99990                 NaN  http://us.imdb.com/M/title-exact?Wedding+Singe...   \n",
      "99991                 NaN  http://us.imdb.com/M/title-exact?Blues+Brother...   \n",
      "99992                 NaN  http://us.imdb.com/M/title-exact?Rocket+Man+(1...   \n",
      "99993                 NaN  http://us.imdb.com/M/title-exact?Jackal%2C+The...   \n",
      "99994                 NaN  http://us.imdb.com/M/title-exact?Seven+Years+i...   \n",
      "99995                 NaN  http://us.imdb.com/M/title-exact?Saint%2C%20Th...   \n",
      "99996                 NaN  http://us.imdb.com/M/title-exact?imdb-title-12...   \n",
      "99997                 NaN  http://us.imdb.com/M/title-exact?Peacemaker%2C...   \n",
      "99998                 NaN  http://us.imdb.com/M/title-exact?imdb-title-11...   \n",
      "99999                 NaN  http://us.imdb.com/M/title-exact?imdb-title-11...   \n",
      "\n",
      "       u_id  rating  unix_timestamp  age sex occupation zip_code  \n",
      "0       308       4       887736532   60   M    retired    95076  \n",
      "1       308       5       887737890   60   M    retired    95076  \n",
      "2       308       4       887739608   60   M    retired    95076  \n",
      "3       308       4       887738847   60   M    retired    95076  \n",
      "4       308       5       887736696   60   M    retired    95076  \n",
      "5       308       4       887737194   60   M    retired    95076  \n",
      "6       308       5       887737837   60   M    retired    95076  \n",
      "7       308       5       887737243   60   M    retired    95076  \n",
      "8       308       3       887739426   60   M    retired    95076  \n",
      "9       308       4       887739056   60   M    retired    95076  \n",
      "10      308       3       887737383   60   M    retired    95076  \n",
      "11      308       3       887740729   60   M    retired    95076  \n",
      "12      308       4       887737647   60   M    retired    95076  \n",
      "13      308       5       887737293   60   M    retired    95076  \n",
      "14      308       4       887738057   60   M    retired    95076  \n",
      "15      308       4       887740649   60   M    retired    95076  \n",
      "16      308       3       887737036   60   M    retired    95076  \n",
      "17      308       4       887738933   60   M    retired    95076  \n",
      "18      308       3       887739472   60   M    retired    95076  \n",
      "19      308       5       887737432   60   M    retired    95076  \n",
      "20      308       4       887738191   60   M    retired    95076  \n",
      "21      308       4       887740451   60   M    retired    95076  \n",
      "22      308       4       887736843   60   M    retired    95076  \n",
      "23      308       4       887738933   60   M    retired    95076  \n",
      "24      308       4       887736880   60   M    retired    95076  \n",
      "25      308       3       887740833   60   M    retired    95076  \n",
      "26      308       5       887737431   60   M    retired    95076  \n",
      "27      308       2       887740254   60   M    retired    95076  \n",
      "28      308       3       887738760   60   M    retired    95076  \n",
      "29      308       5       887736924   60   M    retired    95076  \n",
      "...     ...     ...             ...  ...  ..        ...      ...  \n",
      "99970   631       3       888465180   18   F    student    38866  \n",
      "99971   631       2       888464941   18   F    student    38866  \n",
      "99972   631       2       888465299   18   F    student    38866  \n",
      "99973   631       4       888465004   18   F    student    38866  \n",
      "99974   631       2       888465247   18   F    student    38866  \n",
      "99975   631       2       888465084   18   F    student    38866  \n",
      "99976   631       2       888465131   18   F    student    38866  \n",
      "99977   631       4       888465216   18   F    student    38866  \n",
      "99978   631       2       888465351   18   F    student    38866  \n",
      "99979   729       4       893286638   19   M    student    56567  \n",
      "99980   729       2       893286261   19   M    student    56567  \n",
      "99981   729       2       893286338   19   M    student    56567  \n",
      "99982   729       4       893286638   19   M    student    56567  \n",
      "99983   729       3       893286204   19   M    student    56567  \n",
      "99984   729       3       893286638   19   M    student    56567  \n",
      "99985   729       4       893286637   19   M    student    56567  \n",
      "99986   729       3       893286638   19   M    student    56567  \n",
      "99987   729       4       893286638   19   M    student    56567  \n",
      "99988   729       1       893286373   19   M    student    56567  \n",
      "99989   729       1       893286168   19   M    student    56567  \n",
      "99990   729       5       893286637   19   M    student    56567  \n",
      "99991   729       4       893286637   19   M    student    56567  \n",
      "99992   729       2       893286511   19   M    student    56567  \n",
      "99993   729       4       893286638   19   M    student    56567  \n",
      "99994   729       2       893286149   19   M    student    56567  \n",
      "99995   729       4       893286638   19   M    student    56567  \n",
      "99996   729       3       893286338   19   M    student    56567  \n",
      "99997   729       3       893286299   19   M    student    56567  \n",
      "99998   729       1       893286511   19   M    student    56567  \n",
      "99999   729       1       893286491   19   M    student    56567  \n",
      "\n"
     ]
    },
    {
     "name": "stdout",
     "output_type": "stream",
     "text": [
      "[100000 rows x 12 columns]\n"
     ]
    }
   ],
   "source": [
    "users = pd.read_csv('u.user', sep='|', names=['u_id','age','sex', 'occupation','zip_code'], encoding='latin-1')\n",
    "ratings = pd.read_csv(r'u.data',sep='\\t', names=['u_id','m_id','rating','unix_timestamp'],encoding='latin-1')\n",
    "movies = pd.read_csv('u.item',sep='|',names=['m_id','title','release_date','video_release_date','imdb_url'],usecols=range(5),encoding='latin-1')\n",
    "movie_ratings = pd.merge(movies, ratings)\n",
    "alls = pd.merge(movie_ratings, users)\n",
    "print(alls)"
   ]
  },
  {
   "cell_type": "code",
   "execution_count": 4,
   "metadata": {},
   "outputs": [
    {
     "name": "stdout",
     "output_type": "stream",
     "text": [
      "用户数:943,---电影的数量:1682<<<<\n"
     ]
    }
   ],
   "source": [
    "print('用户数:{0},---电影的数量:{1}<<<<'.format(len(set(alls['u_id'])),len(set(alls['m_id']))))"
   ]
  },
  {
   "cell_type": "code",
   "execution_count": 5,
   "metadata": {},
   "outputs": [
    {
     "name": "stdout",
     "output_type": "stream",
     "text": [
      "设置一个矩阵,横向是用户ID，纵向是电影的ID\n",
      "user_movie: [[ 5.  3.  4. ...,  0.  0.  0.]\n",
      " [ 4.  0.  0. ...,  0.  0.  0.]]\n"
     ]
    }
   ],
   "source": [
    "print('设置一个矩阵,横向是用户ID，纵向是电影的ID')\n",
    "for i in range(len(ratings.values)):\n",
    "    user_movie[ratings.values[i][0]-1][ratings.values[i][1]-1]=ratings.values[i][2]\n",
    "    \n",
    "print('user_movie:',user_movie[:2,:])"
   ]
  },
  {
   "cell_type": "code",
   "execution_count": 26,
   "metadata": {},
   "outputs": [
    {
     "name": "stdout",
     "output_type": "stream",
     "text": [
      "这里创建电影相似度矩阵\n"
     ]
    }
   ],
   "source": [
    "print('这里创建电影相似度矩阵')\n",
    "movie_same = np.zeros([1682, 1682])\n",
    "for i in range(1682):\n",
    "    for j in range(i,1682):\n",
    "        result = cos_(i,j)\n",
    "        movie_same[i, j] = result\n",
    "        movie_same[j, i] = result"
   ]
  },
  {
   "cell_type": "code",
   "execution_count": 25,
   "metadata": {
    "collapsed": true
   },
   "outputs": [],
   "source": [
    "def cos_(i,j):\n",
    "    return np.sum(user_movie[:,i]-user_movie[:,j].T*(user_movie[:,i]-user_movie[:,j]))"
   ]
  },
  {
   "cell_type": "code",
   "execution_count": null,
   "metadata": {
    "collapsed": true
   },
   "outputs": [],
   "source": []
  },
  {
   "cell_type": "code",
   "execution_count": 100,
   "metadata": {},
   "outputs": [
    {
     "name": "stdout",
     "output_type": "stream",
     "text": [
      "\n",
      "传入用户数据表data,测试用户ID，\n",
      "\n"
     ]
    }
   ],
   "source": [
    "print('''\n",
    "传入用户数据表data,测试用户ID，\n",
    "''')\n",
    "def user_nice(user_id, K):\n",
    "    ids = result[user_id][0]\n",
    "    ccnn = result[user_id][1]['m_id'].values   # 返回该用户的movie_id 列表 \n",
    "    count_num = 0\n",
    "    list_results = []\n",
    "    list_num = []\n",
    "    for index_id in ccnn:\n",
    "        aj = np.argsort(movie_same[index_id])\n",
    "        for inser in aj:\n",
    "            if movies.values[inser][0] not in ccnn:\n",
    "                if list_results == []:\n",
    "                    list_results = movies.values[inser]\n",
    "                    list_num +=[inser]\n",
    "                else:\n",
    "                    list_results = np.hstack([list_results, movies.values[inser]])\n",
    "                    list_num +=[inser]\n",
    "                count_num+=1\n",
    "                if count_num>=K:\n",
    "                    return list_results, list_num\n",
    "        return []\n",
    "#     print('没有足够数量，最后得到{0}'.format(nice_out))\n",
    "#     return nice_out"
   ]
  },
  {
   "cell_type": "code",
   "execution_count": 33,
   "metadata": {
    "collapsed": true
   },
   "outputs": [],
   "source": [
    "# train = pd.read_csv('u1.base', sep='\\t', names=['u_id','m_id','rating', 'unix_timestamp'], encoding='latin-1')\n",
    "test = pd.read_csv(r'u1.test',sep='\\t', names=['u_id','m_id','rating','unix_timestamp'], encoding='latin-1')\n",
    "# train_list = np.zeros([943, 1682])\n",
    "# for i in range(len(train.values)):\n",
    "#     train_list[train.values[i][0]-1][train.values[i][1]-1] = train.values[i][2]\n",
    "test_list = np.zeros([943, 1682])\n",
    "for i in range(len(test.values)):\n",
    "    test_list[test.values[i][0]-1][test.values[i][1]-1] = test.values[i][2]"
   ]
  },
  {
   "cell_type": "code",
   "execution_count": 34,
   "metadata": {},
   "outputs": [],
   "source": [
    "result = list(test.groupby(['u_id']))"
   ]
  },
  {
   "cell_type": "code",
   "execution_count": 101,
   "metadata": {},
   "outputs": [
    {
     "name": "stderr",
     "output_type": "stream",
     "text": [
      "D:\\An\\lib\\site-packages\\ipykernel_launcher.py:14: DeprecationWarning: elementwise == comparison failed; this will raise an error in the future.\n",
      "  \n"
     ]
    },
    {
     "data": {
      "text/plain": [
       "(array([1082, 'Female Perversions (1996)', '25-Apr-1997', nan,\n",
       "        'http://us.imdb.com/M/title-exact?Female%20Perversions%20(1996)',\n",
       "        1652, 'Temptress Moon (Feng Yue) (1996)', '13-Jun-1997', nan,\n",
       "        'http://us.imdb.com/M/title-exact?Feng%20Yue%20%281996%29', 1682,\n",
       "        'Scream of Stone (Schrei aus Stein) (1991)', '08-Mar-1996', nan,\n",
       "        'http://us.imdb.com/M/title-exact?Schrei%20aus%20Stein%20(1991)'], dtype=object),\n",
       " [1081, 1651, 1681])"
      ]
     },
     "execution_count": 101,
     "metadata": {},
     "output_type": "execute_result"
    }
   ],
   "source": [
    "user_nice(result[1][0],3)"
   ]
  },
  {
   "cell_type": "code",
   "execution_count": 114,
   "metadata": {},
   "outputs": [
    {
     "data": {
      "text/plain": [
       "0.0"
      ]
     },
     "execution_count": 114,
     "metadata": {},
     "output_type": "execute_result"
    }
   ],
   "source": [
    "def precision(result, corr):\n",
    "    right=0\n",
    "    for i in result:\n",
    "        if i in corr:\n",
    "            right+=1 \n",
    "    return right/len(corr)\n",
    "\n",
    "precision([1081,1651,1681],result[1][1].values[:,1])"
   ]
  },
  {
   "cell_type": "code",
   "execution_count": null,
   "metadata": {},
   "outputs": [],
   "source": []
  },
  {
   "cell_type": "code",
   "execution_count": null,
   "metadata": {},
   "outputs": [],
   "source": []
  },
  {
   "cell_type": "code",
   "execution_count": null,
   "metadata": {},
   "outputs": [],
   "source": []
  },
  {
   "cell_type": "code",
   "execution_count": null,
   "metadata": {},
   "outputs": [],
   "source": []
  },
  {
   "cell_type": "code",
   "execution_count": null,
   "metadata": {},
   "outputs": [],
   "source": []
  },
  {
   "cell_type": "code",
   "execution_count": null,
   "metadata": {
    "collapsed": true
   },
   "outputs": [],
   "source": []
  },
  {
   "cell_type": "code",
   "execution_count": null,
   "metadata": {
    "collapsed": true
   },
   "outputs": [],
   "source": []
  }
 ],
 "metadata": {
  "kernelspec": {
   "display_name": "Python 3",
   "language": "python",
   "name": "python3"
  },
  "language_info": {
   "codemirror_mode": {
    "name": "ipython",
    "version": 3
   },
   "file_extension": ".py",
   "mimetype": "text/x-python",
   "name": "python",
   "nbconvert_exporter": "python",
   "pygments_lexer": "ipython3",
   "version": "3.6.3"
  }
 },
 "nbformat": 4,
 "nbformat_minor": 1
}
